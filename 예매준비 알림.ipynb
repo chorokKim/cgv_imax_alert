{
 "cells": [
  {
   "cell_type": "code",
   "execution_count": 1,
   "metadata": {},
   "outputs": [],
   "source": [
    "import requests\n",
    "from bs4 import BeautifulSoup"
   ]
  },
  {
   "cell_type": "code",
   "execution_count": 16,
   "metadata": {},
   "outputs": [],
   "source": [
    "url = \"http://www.cgv.co.kr/theaters/special/?regioncode=07\"\n",
    "response = requests.get(url).text\n",
    "soup = BeautifulSoup(response, \"html.parser\")\n",
    "iframe = soup.select(\"#ifrm_movie_lineup\")"
   ]
  },
  {
   "cell_type": "markdown",
   "metadata": {},
   "source": [
    "영화 리스트 iframe"
   ]
  },
  {
   "cell_type": "code",
   "execution_count": 28,
   "metadata": {
    "scrolled": true
   },
   "outputs": [
    {
     "data": {
      "text/plain": [
       "[<a class=\"link-reservation\" href=\"/ticket/?MOVIE_CD=20026315&amp;MOVIE_CD_GROUP=20026315\" target=\"_top\">예매</a>,\n",
       " <a class=\"link-reservation\" href=\"/ticket/?MOVIE_CD=20026510&amp;MOVIE_CD_GROUP=20026510\" target=\"_top\">예매</a>]"
      ]
     },
     "execution_count": 28,
     "metadata": {},
     "output_type": "execute_result"
    }
   ],
   "source": [
    "url_movie = \"http://www.cgv.co.kr\" + iframe[0].attrs[\"src\"]\n",
    "response = requests.get(url_movie).text\n",
    "soup = BeautifulSoup(response, \"html.parser\")\n",
    "movie_list = soup.select(\"div.sect-chart ul li a.link-reservation\")\n",
    "movie_list"
   ]
  },
  {
   "cell_type": "code",
   "execution_count": 27,
   "metadata": {},
   "outputs": [
    {
     "data": {
      "text/plain": [
       "'/ticket/?MOVIE_CD=20026315&MOVIE_CD_GROUP=20026315'"
      ]
     },
     "execution_count": 27,
     "metadata": {},
     "output_type": "execute_result"
    }
   ],
   "source": [
    "movie_list[0].attrs[\"href\"]"
   ]
  }
 ],
 "metadata": {
  "kernelspec": {
   "display_name": "Python 3",
   "language": "python",
   "name": "python3"
  },
  "language_info": {
   "codemirror_mode": {
    "name": "ipython",
    "version": 3
   },
   "file_extension": ".py",
   "mimetype": "text/x-python",
   "name": "python",
   "nbconvert_exporter": "python",
   "pygments_lexer": "ipython3",
   "version": "3.8.5"
  }
 },
 "nbformat": 4,
 "nbformat_minor": 4
}
